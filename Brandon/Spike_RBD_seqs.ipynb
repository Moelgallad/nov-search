{
  "nbformat": 4,
  "nbformat_minor": 0,
  "metadata": {
    "colab": {
      "provenance": [],
      "collapsed_sections": []
    },
    "kernelspec": {
      "name": "python3",
      "display_name": "Python 3"
    },
    "language_info": {
      "name": "python"
    }
  },
  "cells": [
    {
      "cell_type": "code",
      "source": [
        "#Generate sequences for all mutations in deep mutational scan covid spike RBD experiment \n",
        "#! pip install Bio\n",
        "import pandas as pd\n",
        "import Bio\n",
        "from Bio import SeqIO\n",
        "from Bio import SeqRecord\n",
        "from Bio.Seq import Seq\n",
        "from Bio.SeqRecord import SeqRecord\n",
        "from Bio.SeqIO.Interfaces import MutableSeq\n",
        "\n",
        "url = 'https://media.githubusercontent.com/media/jbloomlab/SARS-CoV-2-RBD_DMS_variants/main/results/final_variant_scores/final_variant_scores.csv'\n",
        "df = pd.read_csv(url) \n",
        "\n",
        "strains = ['Beta', 'E484K', 'N501Y', 'Wuhan-Hu-1', 'Delta']\n",
        "wtSeq = [] \n",
        "for strain in strains: \n",
        "  seq = ''\n",
        "  for i in range(0, 4019, 20): \n",
        "    z = df[df.target == strain].reset_index() \n",
        "    seq+=(z.loc[i]['wildtype']) \n",
        "  seqRec = SeqRecord(\n",
        "      Seq(seq),\n",
        "      id = strain + \"WT\"\n",
        "  )\n",
        "  wtSeq.append(seqRec)\n",
        "#print(wtSeq)\n",
        " \n",
        "amino_acids = ['A', 'C', 'D', 'E', 'F', 'G', 'H', 'I', 'K', 'L', 'M', 'N', 'P', 'Q', 'R', 'S', 'T', 'V', 'W', 'Y'] \n",
        "mutRec =[]\n",
        "for rec in wtSeq:\n",
        "  for position in range(0,201): \n",
        "    for x in amino_acids: \n",
        "      sequence = MutableSeq(rec.seq)  \n",
        "      sequence[position]= x \n",
        "      seqRec = SeqRecord(\n",
        "          Seq(sequence),\n",
        "          id = rec.id + \"_\" + x\n",
        "      )\n",
        "      mutRec.append(seqRec)\n",
        "with open(\"out.fas\",\"w\") as out_fh:\n",
        "  SeqIO.write(mutRec, out_fh, 'fasta')"
      ],
      "metadata": {
        "id": "prdoH4KX2B8G"
      },
      "execution_count": null,
      "outputs": []
    }
  ]
}
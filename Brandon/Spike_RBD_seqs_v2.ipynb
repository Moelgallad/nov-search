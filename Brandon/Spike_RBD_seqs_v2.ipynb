{
  "nbformat": 4,
  "nbformat_minor": 0,
  "metadata": {
    "colab": {
      "provenance": [],
      "collapsed_sections": []
    },
    "kernelspec": {
      "name": "python3",
      "display_name": "Python 3"
    },
    "language_info": {
      "name": "python"
    }
  },
  "cells": [
    {
      "cell_type": "code",
      "source": [
        "#Generate sequences for all mutations in deep mutational scan covid spike RBD experiment \n",
        "#! pip install Bio\n",
        "import pandas as pd\n",
        "import Bio\n",
        "from Bio import SeqIO\n",
        "from Bio import SeqRecord\n",
        "from Bio.Seq import Seq\n",
        "from Bio.SeqRecord import SeqRecord\n",
        "from Bio.SeqIO.Interfaces import MutableSeq\n",
        "import tabulate\n",
        "\n",
        "url = 'https://media.githubusercontent.com/media/jbloomlab/SARS-CoV-2-RBD_DMS_variants/main/results/final_variant_scores/final_variant_scores.csv'\n",
        "df = pd.read_csv(url) \n",
        "\n",
        "strains = ['Beta', 'E484K', 'N501Y', 'Wuhan-Hu-1', 'Delta']\n",
        "wtSeq = [] \n",
        "for strain in strains: \n",
        "  seq = ''\n",
        "  for i in range(0, 4019, 20): \n",
        "    z = df[df.target == strain].reset_index() \n",
        "    seq+=(z.loc[i]['wildtype']) \n",
        "  seqRec = SeqRecord(\n",
        "      Seq(seq),\n",
        "      id = strain + \"WT\"\n",
        "  )\n",
        "  wtSeq.append(seqRec)\n",
        "#print(wtSeq)\n",
        " \n",
        "amino_acids = ['A', 'C', 'D', 'E', 'F', 'G', 'H', 'I', 'K', 'L', 'M', 'N', 'P', 'Q', 'R', 'S', 'T', 'V', 'W', 'Y'] \n",
        "mutRec =[]\n",
        "for rec in wtSeq:\n",
        "  for position in range(0,201): \n",
        "    for x in amino_acids: \n",
        "      sequence = MutableSeq(rec.seq)  \n",
        "      sequence[position]= x \n",
        "      seqRec = SeqRecord(\n",
        "          Seq(sequence),\n",
        "          id = rec.id + '_' + str(position + 331) + \"_\" + x\n",
        "      )\n",
        "      mutRec.append(seqRec)\n",
        "with open(\"out.fas\",\"w\") as out_fh:\n",
        "  SeqIO.write(mutRec, out_fh, 'fasta')\n",
        "\n",
        "#linking sequences to binding data\n",
        "seq_records = list(SeqIO.parse(\"/content/out.fas\", \"fasta\"))\n",
        "seq_bind_data = []\n",
        "for i in range(0, 20100):\n",
        "  seq_dict = {'id' : seq_records[i].id, 'sequence' : seq_records[i].seq, 'bind' : df.loc[i]['bind'], 'delta_bind' : df.loc[i]['delta_bind']}\n",
        "  seq_bind_data.append(seq_dict)\n",
        "\n",
        "#for item in seq_bind_data:\n",
        "    #print(item['id'],\"\\t\",item['sequence'],\"\\t\",item['bind'],\"\\t\",item['delta_bind'])\n"
      ],
      "metadata": {
        "id": "prdoH4KX2B8G"
      },
      "execution_count": null,
      "outputs": []
    }
  ]
}